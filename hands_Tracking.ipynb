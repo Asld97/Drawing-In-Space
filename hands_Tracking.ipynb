{
 "cells": [
  {
   "cell_type": "code",
   "execution_count": null,
   "metadata": {},
   "outputs": [],
   "source": [
    "# Install dependencis in your terminal\n",
    "# pip install mediapipe opencv-python\n"
   ]
  },
  {
   "cell_type": "code",
   "execution_count": null,
   "metadata": {},
   "outputs": [],
   "source": [
    "# Import all needed packages\n",
    "import mediapipe as mp\n",
    "import cv2\n",
    "import numpy as np\n",
    "import os\n",
    "import uuid\n",
    "import math\n",
    "from interface import *\n"
   ]
  },
  {
   "cell_type": "code",
   "execution_count": null,
   "metadata": {},
   "outputs": [],
   "source": [
    "# Mediapipe confg variables\n",
    "# Module for rendering the landmarks on video/image\n",
    "mp_drawing = mp.solutions.drawing_utils\n",
    "mp_hands = mp.solutions.hands  # Module for work with hands - detection and tracking\n"
   ]
  },
  {
   "cell_type": "code",
   "execution_count": null,
   "metadata": {},
   "outputs": [],
   "source": [
    "# Active WebCam\n",
    "cap = cv2.VideoCapture(0)\n",
    "img_height = cap.get(4)\n",
    "img_width = cap.get(3)\n",
    "\n",
    "with mp_hands.Hands(min_detection_confidence=0.8, min_tracking_confidence=0.5) as hands:\n",
    "    while cap.isOpened():\n",
    "        _, frame = cap.read()  # Catches the frame from video\n",
    "\n",
    "        # Hands detections\n",
    "        # Change frame's colors into RGB scheme\n",
    "        image = cv2.cvtColor(frame, cv2.COLOR_BGR2RGB)\n",
    "        image.flags.writeable = False  # Set flag to false\n",
    "        results = hands.process(image)  # Detections\n",
    "        image.flags.writeable = True  # Set flagto true\n",
    "        image = cv2.cvtColor(image, cv2.COLOR_RGB2BGR)  # Rechange colors\n",
    "\n",
    "        # Draw detections on frame\n",
    "        if results.multi_hand_landmarks:\n",
    "            for num, hand in enumerate(results.multi_hand_landmarks):\n",
    "                mp_drawing.draw_landmarks(\n",
    "                    image, hand, mp_hands.HAND_CONNECTIONS)\n",
    "            try:\n",
    "                if len(coord_list) < 10:\n",
    "                    coord_list.append([hand.landmark[8].x, hand.landmark[8].y])\n",
    "                else:\n",
    "                    coord_list.pop(0)\n",
    "                    coord_list.append([hand.landmark[8].x, hand.landmark[8].y])\n",
    "                print(coord_list)\n",
    "            except NameError:\n",
    "                coord_list = [[hand.landmark[8].x, hand.landmark[8].y]]\n",
    "\n",
    "            cv2.line(image, denormalization(hand, 8, img_height, img_width),\n",
    "                     denormalization(hand, 4, img_height, img_width), (255, 0, 0), 3)\n",
    "\n",
    "        # Display frame; Flip display image as mirrored\n",
    "        cv2.imshow('Hand Tracking', cv2.flip(image, 1))\n",
    "\n",
    "        # Get last 8 bits from pressed key.\n",
    "        if cv2.waitKey(10) & 0xFF == ord('q'):\n",
    "            break\n",
    "\n",
    "    cap.release()  # Release WebCam\n",
    "    cv2.destroyAllWindows()\n"
   ]
  },
  {
   "cell_type": "code",
   "execution_count": null,
   "metadata": {},
   "outputs": [],
   "source": [
    "print(hand)\n"
   ]
  },
  {
   "cell_type": "code",
   "execution_count": null,
   "metadata": {},
   "outputs": [],
   "source": []
  }
 ],
 "metadata": {
  "kernelspec": {
   "display_name": "Python 3.10.2 ('hands_venv': venv)",
   "language": "python",
   "name": "python3"
  },
  "language_info": {
   "codemirror_mode": {
    "name": "ipython",
    "version": 3
   },
   "file_extension": ".py",
   "mimetype": "text/x-python",
   "name": "python",
   "nbconvert_exporter": "python",
   "pygments_lexer": "ipython3",
   "version": "3.10.2"
  },
  "orig_nbformat": 4,
  "vscode": {
   "interpreter": {
    "hash": "e8113e523b81dc23aa6284d31c5a67c36fbd82785cdf3fc29ade83bec07dae23"
   }
  }
 },
 "nbformat": 4,
 "nbformat_minor": 2
}
