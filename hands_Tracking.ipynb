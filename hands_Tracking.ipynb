{
 "cells": [
  {
   "cell_type": "code",
   "execution_count": null,
   "metadata": {},
   "outputs": [],
   "source": [
    "# Install dependencis in your terminal\n",
    "# pip install mediapipe opencv-python\n"
   ]
  },
  {
   "cell_type": "code",
   "execution_count": 1,
   "metadata": {},
   "outputs": [],
   "source": [
    "# Import all needed packages\n",
    "import mediapipe as mp\n",
    "import cv2\n",
    "import numpy as np\n",
    "import os\n",
    "import uuid"
   ]
  },
  {
   "cell_type": "code",
   "execution_count": 2,
   "metadata": {},
   "outputs": [],
   "source": [
    "# Mediapipe confg variables\n",
    "mp_drawing = mp.solutions.drawing_utils # Module for rendering the landmarks on video/image\n",
    "mp_hands = mp.solutions.hands # Module for work with hands - detection and tracking "
   ]
  },
  {
   "cell_type": "code",
   "execution_count": 3,
   "metadata": {},
   "outputs": [
    {
     "ename": "",
     "evalue": "",
     "output_type": "error",
     "traceback": [
      "\u001b[1;31mJądro Kernel uległo awarii podczas wykonywania kodu w bieżącej komórce lub w poprzedniej komórce. Przejrzyj kod w komórkach, aby zidentyfikować możliwą przyczynę awarii. Kliknij <a href='https://aka.ms/vscodeJupyterKernelCrash'>tutaj</a>, aby uzyskać więcej informacji. W celu uzyskania dalszych szczegółów, wyświetl <a href='command:jupyter.viewOutput'>log</a> Jupyter."
     ]
    }
   ],
   "source": [
    "# Active WebCam\n",
    "cap = cv2.VideoCapture(0)\n",
    "\n",
    "with mp_hands.Hands(min_detection_confidence=0.8, min_tracking_confidence= 0.5) as hands:\n",
    "    while cap.isOpened():\n",
    "        _, frame = cap.read() # Catches the frame from video\n",
    "\n",
    "        # Hands detections\n",
    "        image = cv2.cvtColor(frame, cv2.COLOR_BGR2RGB) # Change frame's colors into RGB scheme\n",
    "        image.flags.writeable = False # Set flag to false\n",
    "        results = hands.process(image)  # Detections\n",
    "        image.flags.writeable = True # Set flagto true\n",
    "        image = cv2.cvtColor(image, cv2.COLOR_RGB2BGR) # Rechange colors\n",
    "        \n",
    "        # Draw detections on frame\n",
    "        if results.multi_hand_landmarks:\n",
    "            for num, hand in enumerate(results.multi_hand_landmarks):\n",
    "                mp_drawing.draw_landmarks(image, hand, mp_hands.HAND_CONNECTIONS)\n",
    "\n",
    "        cv2.imshow('Hand Tracking', cv2.flip(image,1))  # Display frame; Flip display image as mirrored\n",
    "\n",
    "        # Get last 8 bits from pressed key.\n",
    "        if cv2.waitKey(10) & 0xFF == ord('q'):\n",
    "            break\n",
    "\n",
    "    cap.release() # Release WebCam\n",
    "    cv2.destroyAllWindows() \n",
    "\n"
   ]
  },
  {
   "cell_type": "code",
   "execution_count": 15,
   "metadata": {},
   "outputs": [
    {
     "name": "stdout",
     "output_type": "stream",
     "text": [
      "landmark {\n",
      "  x: 0.6093270778656006\n",
      "  y: 1.030651330947876\n",
      "  z: -2.948674726610534e-08\n",
      "}\n",
      "landmark {\n",
      "  x: 0.5746433138847351\n",
      "  y: 0.9713032245635986\n",
      "  z: -0.0010765782790258527\n",
      "}\n",
      "landmark {\n",
      "  x: 0.5514753460884094\n",
      "  y: 0.9060038328170776\n",
      "  z: -0.010685332119464874\n",
      "}\n",
      "landmark {\n",
      "  x: 0.536906898021698\n",
      "  y: 0.8565586805343628\n",
      "  z: -0.021680008620023727\n",
      "}\n",
      "landmark {\n",
      "  x: 0.5224016308784485\n",
      "  y: 0.8106751441955566\n",
      "  z: -0.033085305243730545\n",
      "}\n",
      "landmark {\n",
      "  x: 0.5768016576766968\n",
      "  y: 0.8524374961853027\n",
      "  z: -0.025288067758083344\n",
      "}\n",
      "landmark {\n",
      "  x: 0.5427570343017578\n",
      "  y: 0.7940171360969543\n",
      "  z: -0.05095072463154793\n",
      "}\n",
      "landmark {\n",
      "  x: 0.5108446478843689\n",
      "  y: 0.7732754349708557\n",
      "  z: -0.06660649925470352\n",
      "}\n",
      "landmark {\n",
      "  x: 0.4839240610599518\n",
      "  y: 0.7671238780021667\n",
      "  z: -0.07398614287376404\n",
      "}\n",
      "landmark {\n",
      "  x: 0.5944042801856995\n",
      "  y: 0.8720324635505676\n",
      "  z: -0.038483232259750366\n",
      "}\n",
      "landmark {\n",
      "  x: 0.5595596432685852\n",
      "  y: 0.798899233341217\n",
      "  z: -0.06338146328926086\n",
      "}\n",
      "landmark {\n",
      "  x: 0.5224679112434387\n",
      "  y: 0.774954080581665\n",
      "  z: -0.0766647458076477\n",
      "}\n",
      "landmark {\n",
      "  x: 0.4898487329483032\n",
      "  y: 0.7734503746032715\n",
      "  z: -0.08193464577198029\n",
      "}\n",
      "landmark {\n",
      "  x: 0.6017631888389587\n",
      "  y: 0.9078542590141296\n",
      "  z: -0.05118003860116005\n",
      "}\n",
      "landmark {\n",
      "  x: 0.5404630899429321\n",
      "  y: 0.8822646737098694\n",
      "  z: -0.0761992484331131\n",
      "}\n",
      "landmark {\n",
      "  x: 0.49312716722488403\n",
      "  y: 0.8919515609741211\n",
      "  z: -0.0848483219742775\n",
      "}\n",
      "landmark {\n",
      "  x: 0.4588915705680847\n",
      "  y: 0.9051634073257446\n",
      "  z: -0.08598451316356659\n",
      "}\n",
      "landmark {\n",
      "  x: 0.5983271598815918\n",
      "  y: 0.9560357332229614\n",
      "  z: -0.06282854080200195\n",
      "}\n",
      "landmark {\n",
      "  x: 0.5368362665176392\n",
      "  y: 0.9662812352180481\n",
      "  z: -0.0800219476222992\n",
      "}\n",
      "landmark {\n",
      "  x: 0.49826061725616455\n",
      "  y: 0.9792457818984985\n",
      "  z: -0.0822671428322792\n",
      "}\n",
      "landmark {\n",
      "  x: 0.4713674485683441\n",
      "  y: 0.9903994798660278\n",
      "  z: -0.08060846477746964\n",
      "}\n",
      "\n"
     ]
    }
   ],
   "source": [
    "print(hand)"
   ]
  },
  {
   "cell_type": "code",
   "execution_count": null,
   "metadata": {},
   "outputs": [],
   "source": []
  }
 ],
 "metadata": {
  "kernelspec": {
   "display_name": "Python 3.10.7 ('hands_venv': venv)",
   "language": "python",
   "name": "python3"
  },
  "language_info": {
   "codemirror_mode": {
    "name": "ipython",
    "version": 3
   },
   "file_extension": ".py",
   "mimetype": "text/x-python",
   "name": "python",
   "nbconvert_exporter": "python",
   "pygments_lexer": "ipython3",
   "version": "3.10.7"
  },
  "orig_nbformat": 4,
  "vscode": {
   "interpreter": {
    "hash": "e72bcdd981ba6b54ef2a40c8c7ed486704db85ec2d31ebf6a29bd3f6c82cf666"
   }
  }
 },
 "nbformat": 4,
 "nbformat_minor": 2
}
